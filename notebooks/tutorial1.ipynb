{
 "metadata": {
  "name": "",
  "signature": "sha256:8c823e3cb09413b83969067623746efe60bef5cb62f282e144621b273e8d4b83"
 },
 "nbformat": 3,
 "nbformat_minor": 0,
 "worksheets": [
  {
   "cells": [
    {
     "cell_type": "markdown",
     "metadata": {},
     "source": [
      "## La base de la base"
     ]
    },
    {
     "cell_type": "code",
     "collapsed": false,
     "input": [
      "%install_ext https://raw.github.com/cjdrake/ipython-magic/master/gvmagic.py\n",
      "%load_ext gvmagic"
     ],
     "language": "python",
     "metadata": {},
     "outputs": []
    },
    {
     "cell_type": "code",
     "collapsed": false,
     "input": [
      "from grapheekdb.backends.data.localmem import LocalMemoryGraph\n",
      "g = LocalMemoryGraph()\n",
      "\n",
      "# Uncomment those lines to use a server which must be started first\n",
      "# To start a server with a KyotoCabinet Hash backend, you can do (in a linux shell) :\n",
      "# grapheekserve -b grapheekdb.backends.data.kyotocab.KyotoCabinetGraph path:tutorial1.kch\n",
      "# note : with kyotocabinet, the file extension defines the interna structure :\n",
      "# - kch stands for 'hash database'\n",
      "# - kct stands for 'binary tree database'\n",
      "# for grapheekdb, kch is generally better in terms of performance (as there's often no 'natural order' in graph which would make binary tree a good backend choice)\n",
      "\n",
      "#from grapheekdb.client.api import ProxyGraph\n",
      "#g = ProxyGraph('tcp://127.0.0.1:5555')\n"
     ],
     "language": "python",
     "metadata": {},
     "outputs": []
    },
    {
     "cell_type": "markdown",
     "metadata": {},
     "source": [
      "### Ajout de noeuds et de liens"
     ]
    },
    {
     "cell_type": "code",
     "collapsed": false,
     "input": [
      "book1 = g.add_node(kind='book', name='python tutorial', author='tim aaaa', thema='programming')\n",
      "book2 = g.add_node(kind='book', name='cooking for dummies', author='tom bbbb', thema='cooking')\n",
      "book3 = g.add_node(kind='book', name='grapheekdb', author='raf cccc', thema='programming')\n",
      "book4 = g.add_node(kind='book', name='python secrets', author='tim aaaa', thema='programming')\n",
      "book5 = g.add_node(kind='book', name='cooking a python', author='tom bbbb', thema='cooking')\n",
      "book6 = g.add_node(kind='book', name='rst the hard way', author='raf cccc', thema='documentation')\n"
     ],
     "language": "python",
     "metadata": {},
     "outputs": []
    },
    {
     "cell_type": "code",
     "collapsed": false,
     "input": [
      "%dotobj g.V().dot('name')"
     ],
     "language": "python",
     "metadata": {},
     "outputs": []
    },
    {
     "cell_type": "code",
     "collapsed": false,
     "input": [
      "person1 = g.add_node(kind='person', name='sam wwww')\n",
      "person2 = g.add_node(kind='person', name='tim xxxx')\n",
      "person3 = g.add_node(kind='person', name='luc yyyy')\n",
      "person4 = g.add_node(kind='person', name='joe zzzz')"
     ],
     "language": "python",
     "metadata": {},
     "outputs": []
    },
    {
     "cell_type": "code",
     "collapsed": false,
     "input": [
      "g.add_edge(person1, book1, action='bought')\n",
      "g.add_edge(person1, book3, action='bought')\n",
      "g.add_edge(person1, book4, action='bought')\n",
      "g.add_edge(person2, book2, action='bought')\n",
      "g.add_edge(person2, book5, action='bought')\n",
      "g.add_edge(person3, book1, action='bought')\n",
      "g.add_edge(person3, book3, action='bought')\n",
      "g.add_edge(person3, book5, action='bought')\n",
      "g.add_edge(person3, book6, action='bought')\n",
      "\n",
      "\n"
     ],
     "language": "python",
     "metadata": {},
     "outputs": []
    },
    {
     "cell_type": "markdown",
     "metadata": {},
     "source": [
      "## Objectif : Impl\u00e9mentation d'un algorithme de recommandation de type \"Filtrage collaboratif\"\n",
      "\n",
      "\n"
     ]
    },
    {
     "cell_type": "code",
     "collapsed": false,
     "input": [
      "g.add_edge(person4, book1, action='saw')"
     ],
     "language": "python",
     "metadata": {},
     "outputs": []
    },
    {
     "cell_type": "code",
     "collapsed": false,
     "input": [
      "%dotobj g.V().dot('name', 'action')"
     ],
     "language": "python",
     "metadata": {},
     "outputs": []
    },
    {
     "cell_type": "code",
     "collapsed": false,
     "input": [
      "for node in g.V():\n",
      "    print node\n",
      "    "
     ],
     "language": "python",
     "metadata": {},
     "outputs": []
    },
    {
     "cell_type": "code",
     "collapsed": false,
     "input": [
      "for node in g.V():\n",
      "    print node.kind, node.name\n"
     ],
     "language": "python",
     "metadata": {},
     "outputs": []
    },
    {
     "cell_type": "markdown",
     "metadata": {},
     "source": [
      "### Les lookups"
     ]
    },
    {
     "cell_type": "code",
     "collapsed": false,
     "input": [
      "%dotobj g.V(kind='book').dot('name')"
     ],
     "language": "python",
     "metadata": {},
     "outputs": []
    },
    {
     "cell_type": "code",
     "collapsed": false,
     "input": [
      "%dotobj g.V(kind='person').dot('name')"
     ],
     "language": "python",
     "metadata": {},
     "outputs": []
    },
    {
     "cell_type": "code",
     "collapsed": false,
     "input": [
      "%dotobj g.V(kind='book', thema='programming').dot('name')"
     ],
     "language": "python",
     "metadata": {},
     "outputs": []
    },
    {
     "cell_type": "code",
     "collapsed": false,
     "input": [
      "%dotobj g.V(name__contains='python').dot('name')"
     ],
     "language": "python",
     "metadata": {},
     "outputs": []
    },
    {
     "cell_type": "code",
     "collapsed": false,
     "input": [
      "%dotobj g.V(name__contains='a').dot('name')\n"
     ],
     "language": "python",
     "metadata": {},
     "outputs": []
    },
    {
     "cell_type": "code",
     "collapsed": false,
     "input": [
      "%dotobj g.E(action='saw').dot('name', 'action')"
     ],
     "language": "python",
     "metadata": {},
     "outputs": []
    },
    {
     "cell_type": "markdown",
     "metadata": {},
     "source": [
      "### path traversal"
     ]
    },
    {
     "cell_type": "code",
     "collapsed": false,
     "input": [
      "%dotobj person4.outE().dot('name', 'action')"
     ],
     "language": "python",
     "metadata": {},
     "outputs": []
    },
    {
     "cell_type": "markdown",
     "metadata": {},
     "source": [
      "### Les m\u00e9thodes de parcours renvoient des it\u00e9rateurs"
     ]
    },
    {
     "cell_type": "code",
     "collapsed": false,
     "input": [
      "for edge in person4.outE():\n",
      "    print edge.action\n"
     ],
     "language": "python",
     "metadata": {},
     "outputs": []
    },
    {
     "cell_type": "markdown",
     "metadata": {},
     "source": [
      "### 1er fragment d'algorithme de recommandation :"
     ]
    },
    {
     "cell_type": "code",
     "collapsed": false,
     "input": [
      "%dotobj person4.outE(action='saw').outV().inE(action='bought').inV().dot('name')"
     ],
     "language": "python",
     "metadata": {},
     "outputs": []
    },
    {
     "cell_type": "markdown",
     "metadata": {},
     "source": [
      "### Vous voulez un sucre syntaxique ?"
     ]
    },
    {
     "cell_type": "code",
     "collapsed": false,
     "input": [
      "person4.out_(action='saw').in_(action='bought')"
     ],
     "language": "python",
     "metadata": {},
     "outputs": []
    },
    {
     "cell_type": "code",
     "collapsed": false,
     "input": [
      "%dotobj person4.out_(action='saw').in_(action='bought').dot('name')"
     ],
     "language": "python",
     "metadata": {},
     "outputs": []
    },
    {
     "cell_type": "code",
     "collapsed": false,
     "input": [
      "%dotobj person4.out_(action='saw').in_(action='bought').out_(action='bought').dot('name')"
     ],
     "language": "python",
     "metadata": {},
     "outputs": []
    },
    {
     "cell_type": "markdown",
     "metadata": {},
     "source": [
      "### wtf ???"
     ]
    },
    {
     "cell_type": "code",
     "collapsed": false,
     "input": [
      "print person4.out_(action='saw').in_(action='bought').out_(action='bought').count()"
     ],
     "language": "python",
     "metadata": {},
     "outputs": []
    },
    {
     "cell_type": "code",
     "collapsed": false,
     "input": [
      "for book in person4.out_(action='saw').in_(action='bought').out_(action='bought'):\n",
      "    print book.name"
     ],
     "language": "python",
     "metadata": {},
     "outputs": []
    },
    {
     "cell_type": "markdown",
     "metadata": {},
     "source": [
      "### avec une agr\u00e9gation c'est plus simple de comprendre"
     ]
    },
    {
     "cell_type": "markdown",
     "metadata": {},
     "source": [
      "#### Mais revoyons d'abord le graphe au ralenti :"
     ]
    },
    {
     "cell_type": "code",
     "collapsed": false,
     "input": [
      "%dotobj g.V().dot('name', 'action')"
     ],
     "language": "python",
     "metadata": {},
     "outputs": []
    },
    {
     "cell_type": "code",
     "collapsed": false,
     "input": [
      "for item in person4.out_(action='saw').in_(action='bought').out_(action='bought').sum():\n",
      "    print item"
     ],
     "language": "python",
     "metadata": {},
     "outputs": []
    },
    {
     "cell_type": "code",
     "collapsed": false,
     "input": [
      "for book, occ in person4.out_(action='saw').in_(action='bought').out_(action='bought').sum():\n",
      "    print book.name, '-->', occ, 'occurence(s)'\n"
     ],
     "language": "python",
     "metadata": {},
     "outputs": []
    },
    {
     "cell_type": "code",
     "collapsed": false,
     "input": [
      "for book, pct in person4.out_(action='saw').in_(action='bought').out_(action='bought').percent():\n",
      "    print book.name, '-->', pct"
     ],
     "language": "python",
     "metadata": {},
     "outputs": []
    },
    {
     "cell_type": "code",
     "collapsed": false,
     "input": [
      "2/7.0"
     ],
     "language": "python",
     "metadata": {},
     "outputs": []
    },
    {
     "cell_type": "markdown",
     "metadata": {},
     "source": [
      "### C'est quoi votre petit nom ? (<-> aliasing)"
     ]
    },
    {
     "cell_type": "code",
     "collapsed": false,
     "input": [
      "person4.aka('x').out_(action='saw').in_(action='bought').aka('y').out_(action='bought').aka('y')"
     ],
     "language": "python",
     "metadata": {},
     "outputs": []
    },
    {
     "cell_type": "code",
     "collapsed": false,
     "input": [
      "person4.aka('x').out_(action='saw').in_(action='bought').aka('y').out_(action='bought').aka('y').collect('x', 'y', 'z')"
     ],
     "language": "python",
     "metadata": {},
     "outputs": []
    },
    {
     "cell_type": "markdown",
     "metadata": {},
     "source": [
      "#### oui... pour moi aussi, c'est illisible, remettons \u00e7a en forme :"
     ]
    },
    {
     "cell_type": "code",
     "collapsed": false,
     "input": [
      "    for original_person, similar_person, book in person4.aka('x').out_(action='saw').in_(action='bought').aka('y').out_(action='bought').aka('z').collect('x', 'y', 'z'):\n",
      "        print original_person.name, '- is similar to -', similar_person.name, '- who bought -', book.name\n"
     ],
     "language": "python",
     "metadata": {},
     "outputs": []
    },
    {
     "cell_type": "markdown",
     "metadata": {},
     "source": [
      "# Et maintenant quelque chose de compl\u00e8tement diff\u00e9rent :"
     ]
    },
    {
     "cell_type": "markdown",
     "metadata": {},
     "source": [
      "### Les index"
     ]
    },
    {
     "cell_type": "code",
     "collapsed": false,
     "input": [
      "g = LocalMemoryGraph()"
     ],
     "language": "python",
     "metadata": {},
     "outputs": []
    },
    {
     "cell_type": "code",
     "collapsed": false,
     "input": [
      "for i in range(10000):\n",
      "    g.add_node(idx=1)"
     ],
     "language": "python",
     "metadata": {},
     "outputs": []
    },
    {
     "cell_type": "code",
     "collapsed": false,
     "input": [
      "g.V().count()"
     ],
     "language": "python",
     "metadata": {},
     "outputs": []
    },
    {
     "cell_type": "markdown",
     "metadata": {},
     "source": [
      "### Lookup sans index :"
     ]
    },
    {
     "cell_type": "code",
     "collapsed": false,
     "input": [
      "%timeit g.V(idx=5000).count()"
     ],
     "language": "python",
     "metadata": {},
     "outputs": []
    },
    {
     "cell_type": "markdown",
     "metadata": {},
     "source": [
      "### Avec index :"
     ]
    },
    {
     "cell_type": "code",
     "collapsed": false,
     "input": [
      "%time g.add_node_index('idx')"
     ],
     "language": "python",
     "metadata": {},
     "outputs": []
    },
    {
     "cell_type": "code",
     "collapsed": false,
     "input": [
      "%timeit g.V(idx=5000).count()"
     ],
     "language": "python",
     "metadata": {},
     "outputs": []
    },
    {
     "cell_type": "markdown",
     "metadata": {},
     "source": [
      "# Merci de votre attention :)"
     ]
    },
    {
     "cell_type": "code",
     "collapsed": false,
     "input": [],
     "language": "python",
     "metadata": {},
     "outputs": []
    }
   ],
   "metadata": {}
  }
 ]
}